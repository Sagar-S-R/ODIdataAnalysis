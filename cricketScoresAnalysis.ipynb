{
 "cells": [
  {
   "cell_type": "markdown",
   "id": "e3337922-ac7a-4dfc-9c64-9ce2a8fffa5d",
   "metadata": {},
   "source": [
    "## Cricket Scores Analysis "
   ]
  },
  {
   "cell_type": "code",
   "execution_count": 2,
   "id": "145e0aaf-be52-4b6c-b25e-736803ac1c08",
   "metadata": {},
   "outputs": [],
   "source": [
    "import pandas as pd\n",
    "import numpy as np\n",
    "import seaborn as sns\n",
    "import matplotlib.pyplot as plt"
   ]
  },
  {
   "cell_type": "code",
   "execution_count": 3,
   "id": "b10f01b9-d684-4e55-9aa0-9ca0bbb7c6a2",
   "metadata": {},
   "outputs": [],
   "source": [
    "filePath = \"odiData.csv\"\n",
    "odi = pd.read_csv(filePath)"
   ]
  },
  {
   "cell_type": "code",
   "execution_count": 4,
   "id": "371f0f42-b58d-4c60-a250-a2ee972c1a70",
   "metadata": {},
   "outputs": [],
   "source": [
    "odi.drop(columns=[\"Unnamed: 0\", \"Unnamed: 13\"], errors='ignore', inplace=True)"
   ]
  },
  {
   "cell_type": "code",
   "execution_count": 5,
   "id": "b62716b4-5cca-4d81-87e8-8a65894d8406",
   "metadata": {},
   "outputs": [
    {
     "data": {
      "text/html": [
       "<div>\n",
       "<style scoped>\n",
       "    .dataframe tbody tr th:only-of-type {\n",
       "        vertical-align: middle;\n",
       "    }\n",
       "\n",
       "    .dataframe tbody tr th {\n",
       "        vertical-align: top;\n",
       "    }\n",
       "\n",
       "    .dataframe thead th {\n",
       "        text-align: right;\n",
       "    }\n",
       "</style>\n",
       "<table border=\"1\" class=\"dataframe\">\n",
       "  <thead>\n",
       "    <tr style=\"text-align: right;\">\n",
       "      <th></th>\n",
       "      <th>Player</th>\n",
       "      <th>Span</th>\n",
       "      <th>Mat</th>\n",
       "      <th>Inns</th>\n",
       "      <th>NO</th>\n",
       "      <th>Runs</th>\n",
       "      <th>HS</th>\n",
       "      <th>Ave</th>\n",
       "      <th>BF</th>\n",
       "      <th>SR</th>\n",
       "      <th>100</th>\n",
       "      <th>50</th>\n",
       "      <th>0</th>\n",
       "    </tr>\n",
       "  </thead>\n",
       "  <tbody>\n",
       "    <tr>\n",
       "      <th>0</th>\n",
       "      <td>SR Tendulkar (INDIA)</td>\n",
       "      <td>1989-2012</td>\n",
       "      <td>463</td>\n",
       "      <td>452</td>\n",
       "      <td>41</td>\n",
       "      <td>18426</td>\n",
       "      <td>200*</td>\n",
       "      <td>44.83</td>\n",
       "      <td>21367</td>\n",
       "      <td>86.23</td>\n",
       "      <td>49</td>\n",
       "      <td>96</td>\n",
       "      <td>20</td>\n",
       "    </tr>\n",
       "    <tr>\n",
       "      <th>1</th>\n",
       "      <td>KC Sangakkara (Asia/ICC/SL)</td>\n",
       "      <td>2000-2015</td>\n",
       "      <td>404</td>\n",
       "      <td>380</td>\n",
       "      <td>41</td>\n",
       "      <td>14234</td>\n",
       "      <td>169</td>\n",
       "      <td>41.98</td>\n",
       "      <td>18048</td>\n",
       "      <td>78.86</td>\n",
       "      <td>25</td>\n",
       "      <td>93</td>\n",
       "      <td>15</td>\n",
       "    </tr>\n",
       "    <tr>\n",
       "      <th>2</th>\n",
       "      <td>RT Ponting (AUS/ICC)</td>\n",
       "      <td>1995-2012</td>\n",
       "      <td>375</td>\n",
       "      <td>365</td>\n",
       "      <td>39</td>\n",
       "      <td>13704</td>\n",
       "      <td>164</td>\n",
       "      <td>42.03</td>\n",
       "      <td>17046</td>\n",
       "      <td>80.39</td>\n",
       "      <td>30</td>\n",
       "      <td>82</td>\n",
       "      <td>20</td>\n",
       "    </tr>\n",
       "    <tr>\n",
       "      <th>3</th>\n",
       "      <td>ST Jayasuriya (Asia/SL)</td>\n",
       "      <td>1989-2011</td>\n",
       "      <td>445</td>\n",
       "      <td>433</td>\n",
       "      <td>18</td>\n",
       "      <td>13430</td>\n",
       "      <td>189</td>\n",
       "      <td>32.36</td>\n",
       "      <td>14725</td>\n",
       "      <td>91.2</td>\n",
       "      <td>28</td>\n",
       "      <td>68</td>\n",
       "      <td>34</td>\n",
       "    </tr>\n",
       "    <tr>\n",
       "      <th>4</th>\n",
       "      <td>DPMD Jayawardene (Asia/SL)</td>\n",
       "      <td>1998-2015</td>\n",
       "      <td>448</td>\n",
       "      <td>418</td>\n",
       "      <td>39</td>\n",
       "      <td>12650</td>\n",
       "      <td>144</td>\n",
       "      <td>33.37</td>\n",
       "      <td>16020</td>\n",
       "      <td>78.96</td>\n",
       "      <td>19</td>\n",
       "      <td>77</td>\n",
       "      <td>28</td>\n",
       "    </tr>\n",
       "  </tbody>\n",
       "</table>\n",
       "</div>"
      ],
      "text/plain": [
       "                        Player       Span  Mat Inns  NO   Runs    HS    Ave  \\\n",
       "0         SR Tendulkar (INDIA)  1989-2012  463  452  41  18426  200*  44.83   \n",
       "1  KC Sangakkara (Asia/ICC/SL)  2000-2015  404  380  41  14234   169  41.98   \n",
       "2         RT Ponting (AUS/ICC)  1995-2012  375  365  39  13704   164  42.03   \n",
       "3      ST Jayasuriya (Asia/SL)  1989-2011  445  433  18  13430   189  32.36   \n",
       "4   DPMD Jayawardene (Asia/SL)  1998-2015  448  418  39  12650   144  33.37   \n",
       "\n",
       "      BF     SR 100  50   0  \n",
       "0  21367  86.23  49  96  20  \n",
       "1  18048  78.86  25  93  15  \n",
       "2  17046  80.39  30  82  20  \n",
       "3  14725   91.2  28  68  34  \n",
       "4  16020  78.96  19  77  28  "
      ]
     },
     "execution_count": 5,
     "metadata": {},
     "output_type": "execute_result"
    }
   ],
   "source": [
    "odi.head()"
   ]
  },
  {
   "cell_type": "code",
   "execution_count": 6,
   "id": "6a4325e1-1254-4909-bb4a-42c070b15876",
   "metadata": {},
   "outputs": [],
   "source": [
    "numeric_cols = ['Mat', 'Inns' ,'NO' ,'Runs' ,'HS' ,'Ave' ,'BF' ,'SR' ,'100' ,'50', '0']"
   ]
  },
  {
   "cell_type": "code",
   "execution_count": 13,
   "id": "5c94903d-aa50-44e4-bb88-6591ffe0cdaa",
   "metadata": {},
   "outputs": [],
   "source": [
    "for num in numeric_cols:\n",
    "    odi[num] = pd.to_numeric(odi[num], errors='coerce')"
   ]
  },
  {
   "cell_type": "code",
   "execution_count": 15,
   "id": "92f3118b-6fb6-4322-9ce4-5480135dc183",
   "metadata": {},
   "outputs": [],
   "source": [
    "odi.fillna({\n",
    "    'Inns': odi['Inns'].median(),\n",
    "    'NO': 0,\n",
    "    'Runs': odi['Runs'].median(),\n",
    "    'Ave': odi['Ave'].mean(),\n",
    "    'BF': odi['BF'].median(),\n",
    "    'SR': odi['SR'].mean(),\n",
    "    '100': 0,\n",
    "    '50': 0,\n",
    "    '0': 0\n",
    "}, inplace=True)\n"
   ]
  },
  {
   "cell_type": "code",
   "execution_count": null,
   "id": "5598c9a8-2d45-496a-8678-a0ba7194f9d3",
   "metadata": {},
   "outputs": [],
   "source": []
  }
 ],
 "metadata": {
  "kernelspec": {
   "display_name": "Python 3 (ipykernel)",
   "language": "python",
   "name": "python3"
  },
  "language_info": {
   "codemirror_mode": {
    "name": "ipython",
    "version": 3
   },
   "file_extension": ".py",
   "mimetype": "text/x-python",
   "name": "python",
   "nbconvert_exporter": "python",
   "pygments_lexer": "ipython3",
   "version": "3.12.7"
  }
 },
 "nbformat": 4,
 "nbformat_minor": 5
}
